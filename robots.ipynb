{
 "cells": [
  {
   "cell_type": "markdown",
   "metadata": {},
   "source": [
    "# Problem Description.\n",
    "\n",
    "The goal of this project is to write an ASP encoding for\n",
    "planning the movements of a group of robots that have to complete a set of jobs.\n",
    "\n",
    "The robots navigate an undirected graph over a sequence of time steps that range from 0 to n.\n",
    "\n",
    "Each robot belongs to one class and starts at some specific node in the graph.\n",
    "At every time step, robots can either stay at their current node, \n",
    "or move to some adjacent node,\n",
    "but two robots cannot occupy the same node simultaneously\n",
    "(for example, robots r1 and r2 cannot be at node 1 at step 1)\n",
    "or swap their positions\n",
    "(for example, \n",
    "if at time point 0 robot r1 is at node 1 and robot r2 is at node 2, \n",
    "then at time point 1 it cannot be the case that r1 is at node 2 and r2 at node 1).\n",
    "\n",
    "Each job belongs to one class, has some deadline, \n",
    "and consists of a sequence of operations that must be executed in order.\n",
    "Each operation takes place at a designated node.\n",
    "\n",
    "A solution to this problem consists of two parts:\n",
    "* a sequence of valid movements for each robot, and\n",
    "* an assignment of each job of a given class to exactly one robot of the same class.\n",
    "\n",
    "A robot completes a job if it visits the places of the operations of the job in the right order, and it visits the place of the last operation before or at the deadline of the job.\n",
    "\n",
    "A solution can assign more than one job to the same robot. \n",
    "In that case, the robot must complete the assigned jobs in some chosen order, \n",
    "one after the other.\n",
    "\n",
    "Each operation takes one time step. \n",
    "This implies that if a job has two consecutive operations at the same node, \n",
    "then the robot assigned to that job must be at least two steps (not necessarily consecutive) \n",
    "at that node.\n",
    "The same happens if a robot completes a job at a given place, \n",
    "and its next job starts at the same place.\n",
    "\n",
    "A solution is optimal if it minimizes the overall number of robot movements.\n",
    "We count one movement each time a robot moves to an adjacent cell, and\n",
    "we count nothing when a robot remains at the same node."
   ]
  },
  {
   "cell_type": "markdown",
   "metadata": {},
   "source": [
    "# An Example\n",
    "\n",
    "Consider an example of a corridor where there are two robots: \n",
    "* robot r1 of class c1 starting at node 1, and\n",
    "* robot r2 of class c2 starting at node 5,\n",
    "\n",
    "and two jobs: \n",
    "* job j1 of class c1 and deadline 11, that has three operations, \n",
    "  first at node 1, then at node 5, and finally at node 1,\n",
    "* job j2 of class c2 and deadline 10, that has three operations, \n",
    "  first at node 5, then at node 1, and finally at node 5.\n",
    "  \n",
    "The example is represented in the next image.\n",
    "The nodes of the graph are labeled on their top-left by their identifiers. \n",
    "Robots are painted in blue, \n",
    "jobs are described in a green rectangle, \n",
    "and their operations are attached to their corresponding nodes, \n",
    "also in green rectangles.\n",
    "The yellow rectangle represents the clock.\n",
    "\n",
    "<img src=\"img/gif_image_0_0.png\" width=\"300\" align=\"center\">\n",
    "\n",
    "\n",
    "To solve the problem, robot r1 has to be assigned to job j1, and robot r2 to job j2.\n",
    "They both have to go to the other extreme of the corridor and come back to their initial position.\n",
    "To do this, one of them has to use node 6 to give way to the other.\n",
    "One solution is depicted in the following animated image. \n",
    "There is another solution, where robot r1 stays at the first step instead of staying at the second.\n",
    " \n",
    "<img src=\"img/model-0.gif\" width=\"300\" align=\"center\">\n",
    "\n",
    "You may have to re-run the cell to start the animation again, or you can also open it directly [here](img/model-0.gif)."
   ]
  },
  {
   "cell_type": "markdown",
   "metadata": {},
   "source": [
    "# Representation in ASP.\n",
    "\n",
    "The examples are represented by facts over the following predicates:    \n",
    "```\n",
    "edge(N1,N2): there is an (undirected) edge between nodes N1 and N2\n",
    "robot(R,C,N): robot R is of class C and starts at node N\n",
    "job(J,C,D): job J is of class C and its deadline is D (D >= 0)\n",
    "operation(J,O,N): J's operation O takes place at node N (O >= 1)\n",
    "```\n",
    "We assume that the operations O of a given job J\n",
    "form a sequence 1, 2, 3, ...\n",
    "\n",
    "Every problem instance also contains a constant declaration of the form\n",
    "```\n",
    "#const n=v.\n",
    "```\n",
    "for some integer `v`, \n",
    "that fixes the number of steps of the plan.\n",
    "\n",
    "Our running example is represented as follows:\n",
    "```\n",
    "#const n=11.\n",
    "edge(X,X+1) :- X=1..4.\n",
    "edge(3,4+2).\n",
    "robot(r1,c1,1).\n",
    "robot(r2,c2,5).\n",
    "job(j1,c1,11).\n",
    "  operation(j1,1,1).\n",
    "  operation(j1,2,5).\n",
    "  operation(j1,3,1).\n",
    "job(j2,c2,10).\n",
    "  operation(j2,1,5).\n",
    "  operation(j2,2,1).\n",
    "  operation(j2,3,5).\n",
    "```\n",
    "\n",
    "A solution is represented by atoms over the following predicates:  \n",
    "```\n",
    "at(R,N,T): robot R is at node N at time step T\n",
    "assign(R,J,P): assign to R the job J at position P (in the sequence of jobs assigned to R) (P >= 1)\n",
    "```   \n",
    "Predicate `at/3` specifies the positions of the robots, \n",
    "and predicate `assigns/3` specifies the assignment of jobs to robots. \n",
    "For every robot R, the positions P of the jobs assigned to it \n",
    "must form a sequence 1, 2, 3 ..."
   ]
  },
  {
   "cell_type": "markdown",
   "metadata": {},
   "source": [
    "# Visualization\n",
    "\n",
    "You can use clingraph to visualize the solutions:\n",
    "* https://github.com/potassco/clingraph\n",
    "\n",
    "In the folder `asp/solutions-for-clingraph` you can find the solutions for clingraph in ``json`` format. They show all atoms necessary for the visualization, not only those over predicates `at/3` and `assign/3`.\n",
    "\n",
    "You can generate the animated gifs for our example using the following command:"
   ]
  },
  {
   "cell_type": "code",
   "execution_count": null,
   "metadata": {
    "tags": []
   },
   "outputs": [],
   "source": [
    "! cat asp/solutions-for-clingraph/corridor-01.json | clingraph --viz-encoding=asp/viz.lp  --out=animate --sort=asc-int  --engine=neato --prefix=viz_ --dir=img --name-format=model-{model_number}"
   ]
  },
  {
   "cell_type": "markdown",
   "metadata": {},
   "source": [
    "The gifs can be found in the directory `img`."
   ]
  },
  {
   "cell_type": "markdown",
   "metadata": {},
   "source": [
    "Once you have an encoding to solve the problem, you can visualize the answers with the following command. We add the file ``asp/viz_show.lp`` to show some additional predicates, and options ``-q1,1,2 --outf=2`` to print in json format the optimal solutions and only those. Options ``--opt-mode=optN 0 -t4`` are explained in the following section."
   ]
  },
  {
   "cell_type": "code",
   "execution_count": null,
   "metadata": {
    "tags": []
   },
   "outputs": [],
   "source": [
    "! clingo asp/robots.lp asp/viz_show.lp asp/instances/corridor-01.lp -q1,1,2 --outf=2 --opt-mode=optN 0 -t4 | clingraph --viz-encoding=asp/viz.lp  --out=animate --sort=asc-int  --engine=neato --prefix=viz_ --dir=img --name-format=model-{model_number}"
   ]
  },
  {
   "cell_type": "markdown",
   "metadata": {},
   "source": [
    "# Framework.\n",
    "\n",
    "The directory ``asp`` contains the files that you need for the project. In the directory ``asp/instances`` you can find the instances (our example is ``corridor-01.lp``) and in the directory ``asp/solutions`` you can find their solutions in ``json`` format. \n",
    "\n",
    "**At this moment there are only six instances, but we will add more later.**\n",
    "\n",
    "You have to submit a file named ``robots.lp``, included as a template in the directory ``asp``, that contains the following lines (and no more ``#show`` statements) so that in the output only occur the atoms of predicates ``at/3`` and ``assign/3``:\n",
    "\n",
    "```\n",
    "#show at/3\n",
    "#show assign/3.\n",
    "```\n",
    "\n",
    "To run your encoding with our example, you can use this command:\n",
    "* ``clingo asp/robots.lp asp/instances/corridor-01.lp -t4``\n",
    "\n",
    "Option `-t4` runs clingo with 4 threads.\n",
    "It usually improves the performance of the system,\n",
    "and for that reason we use it in the test script. \n",
    "Note that with this option the behavior of clingo is no longer deterministic.\n",
    "In this way, different runs of the same command can compute answer sets in a different order.\n",
    "But only the order of the answers varies:\n",
    "if we compute all answer sets, the set of computed answers will always be the same.\n",
    "\n",
    "To enumerate all optimal solutions, you can add the options ``--opt-mode=optN 0``,\n",
    "but the test script only computes one optimal solution and does not use this option.\n",
    "\n",
    "You can check if your encoding solves correctly all instances by running the ``Python`` script ``test.py`` as follows:\n",
    "* ``python asp/test.py -e asp/robots.lp -i asp/instances -s asp/solutions -t 180 -opt``\n",
    "\n",
    "In this case, the timeout for each instance is set to `180` seconds, but you can use any other value instead.\n",
    "\n",
    "For help, type `python asp/test.py --help`.\n",
    "\n",
    "We recommend you to work locally in your computer, using your own installation of ``clingo``.\n",
    "\n",
    "For this, you can run the next cell to generate a zip file of this directory. The zip file will be stored in the parent directory with the name `robots.zip`. You can click on the folder symbol at the left of the screen to look for it and download it."
   ]
  },
  {
   "cell_type": "code",
   "execution_count": null,
   "metadata": {
    "tags": []
   },
   "outputs": [],
   "source": [
    "import os\n",
    "from shutil import make_archive\n",
    "make_archive('../robots', 'zip', os.getcwd())"
   ]
  },
  {
   "cell_type": "markdown",
   "metadata": {},
   "source": [
    "You can also run your encoding in the next cell. It is not recommended to work in this notebook at ``Binder``, but if you do it, remember to download the files that you modify to your computer, otherwise you will lose your changes."
   ]
  },
  {
   "cell_type": "code",
   "execution_count": null,
   "metadata": {},
   "outputs": [],
   "source": [
    "%%clingo 0 asp/instances/corridor-01.lp -\n",
    "\n",
    "%\n",
    "% Input:\n",
    "%   #const n: the time steps range from 0 to n\n",
    "%   edge(N1,N2): there is an (undirected) edge between nodes N1 and N2\n",
    "%   robot(R,C,N): robot R is of class C and starts at node N\n",
    "%   job(J,C,D): job J is of class C and its deadline is D \n",
    "%   operation(J,O,N): J's operation O takes place at node N (O >= 1)\n",
    "%\n",
    "% Output:\n",
    "%   at(R,N,T): robot R is at node N at time step T\n",
    "%   assign(R,J,P): assign to R the job J at position P (in the sequence of jobs assigned to R) (P >= 1)\n",
    "%\n",
    "\n",
    "time(0..n).\n",
    "\n",
    "% Your encoding please...\n",
    "\n",
    "\n",
    "%\n",
    "% show\n",
    "%\n",
    "#show at/3.\n",
    "#show assign/3.\n"
   ]
  },
  {
   "cell_type": "markdown",
   "metadata": {},
   "source": [
    "# Formalities.\n",
    "You can work on the solution alone or in groups of two people. \n",
    "Different groups have to submit different solutions, in case\n",
    "of plagiarism all groups involved will fail the project. \n",
    "\n",
    "Your solution should represent correctly all optimal solutions for every instance, \n",
    "but you can still pass the project if some instances are not solved within\n",
    "the time limit.\n",
    "This is tested automatically by the script ``test.py``. \n",
    "\n",
    "We will send you further instructions about the submission process from Moodle."
   ]
  },
  {
   "cell_type": "markdown",
   "metadata": {},
   "source": [
    "# Tips:\n",
    "\n",
    "* You can decompose the encoding in various parts:\n",
    "  * representing the movement of the robots\n",
    "  * representing the assignment of jobs to robots\n",
    "  * checking if the movements and the assignment solve the problem.\n",
    "  \n",
    "  For the check part you can consider first the case where there is at most one job per class, \n",
    "  as in our example.\n",
    "  \n",
    "* Try first to model the simplest instances `simple-*.lp`, and then try one by one \n",
    "  the other types of instances.\n",
    "  \n",
    "* Do not try the test script until you are confident that your encoding works well. \n",
    "  Debug your encoding calling clingo directly.\n",
    "  \n",
    "* If you are stuck you can contact us. We will do out best to answer all your questions. You can send us questions and remarks either via Moodle or by email.\n",
    "\n",
    "* Start as soon as possible to avoid running out of time. However, if you still realize that you have problems making it before the deadline, please contact us instead of copying another solution."
   ]
  }
 ],
 "metadata": {
  "kernelspec": {
   "display_name": "Python 3",
   "language": "python",
   "name": "python3"
  },
  "language_info": {
   "codemirror_mode": {
    "name": "ipython",
    "version": 3
   },
   "file_extension": ".py",
   "mimetype": "text/x-python",
   "name": "python",
   "nbconvert_exporter": "python",
   "pygments_lexer": "ipython3",
   "version": "3.9.18"
  }
 },
 "nbformat": 4,
 "nbformat_minor": 4
}
